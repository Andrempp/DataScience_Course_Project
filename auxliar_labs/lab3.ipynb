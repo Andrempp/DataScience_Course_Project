{
 "cells": [
  {
   "cell_type": "code",
   "execution_count": 1,
   "metadata": {},
   "outputs": [
    {
     "data": {
      "text/plain": "<Figure size 360x288 with 0 Axes>"
     },
     "metadata": {},
     "output_type": "display_data"
    }
   ],
   "source": [
    "import functions as func\n",
    "import pandas as pd\n",
    "import matplotlib.pyplot as plt\n",
    "from pandas.plotting import register_matplotlib_converters\n",
    "import numpy as np\n",
    "from imblearn.over_sampling import SMOTE, RandomOverSampler\n",
    "from sklearn.naive_bayes import GaussianNB, MultinomialNB, BernoulliNB\n",
    "import sklearn.metrics as metrics\n",
    "from sklearn.neighbors import KNeighborsClassifier\n",
    "import sklearn.metrics as metrics\n",
    "from sklearn.model_selection import train_test_split"
   ]
  },
  {
   "cell_type": "code",
   "execution_count": 2,
   "metadata": {},
   "outputs": [
    {
     "data": {
      "text/plain": "(756, 754)"
     },
     "execution_count": 2,
     "metadata": {},
     "output_type": "execute_result"
    }
   ],
   "source": [
    "register_matplotlib_converters()\n",
    "data = pd.read_csv('../data/pd_speech_features.csv', skiprows=[0])\n",
    "data = data.drop(['id'], axis=1)\n",
    "data.shape"
   ]
  },
  {
   "cell_type": "code",
   "execution_count": 3,
   "metadata": {},
   "outputs": [
    {
     "data": {
      "text/plain": "<Figure size 432x288 with 1 Axes>",
      "image/png": "[encoded data removed]"
     },
     "metadata": {
      "needs_background": "light"
     },
     "output_type": "display_data"
    }
   ],
   "source": [
    "estimators = {'GaussianNB': GaussianNB(),  \n",
    "              'BernoulyNB': BernoulliNB()}\n",
    "tts = func.split_dataset(data)\n",
    "xvalues = []\n",
    "yvalues = []\n",
    "for clf in estimators:\n",
    "    xvalues.append(clf)\n",
    "    estimators[clf].fit(tts[0], tts[1])\n",
    "    vprdY = estimators[clf].predict(tts[2])\n",
    "    yvalues.append(metrics.accuracy_score(tts[3], vprdY))\n",
    "\n",
    "\n",
    "plt.figure()\n",
    "func.bar_chart(plt.gca(), xvalues, yvalues, 'Comparison of Naive Bayes Models', '', 'accuracy', percentage=True)\n",
    "plt.show()\n"
   ]
  },
  {
   "cell_type": "code",
   "execution_count": 4,
   "metadata": {},
   "outputs": [
    {
     "name": "stdout",
     "output_type": "stream",
     "text": [
      "tr:  1 \t acc:  0.7533039647577092 \t recall:  0.9467455621301775 \t precision 0.7729468599033816\n",
      "tr:  0.9 \t acc:  0.7929515418502202 \t recall:  0.9763313609467456 \t precision 0.7932692307692307\n",
      "tr:  0.8 \t acc:  0.7709251101321586 \t recall:  0.9467455621301775 \t precision 0.7881773399014779\n"
     ]
    },
    {
     "data": {
      "text/plain": "<Figure size 432x288 with 1 Axes>",
      "image/png": "[encoded data removed]"
     },
     "metadata": {
      "needs_background": "light"
     },
     "output_type": "display_data"
    }
   ],
   "source": [
    "#thresholds = [1,0.9,0.8, 0.75, 0.7, 0.65, 0.6]\n",
    "thresholds = [1,0.9,0.8]\n",
    "\n",
    "\n",
    "xvalues = []\n",
    "yvalues = []\n",
    "for tr in thresholds:\n",
    "    clf = BernoulliNB()\n",
    "    corr_data = func.red_correlations(data, tr=tr)\n",
    "    tts = func.split_dataset(corr_data)\n",
    "    xvalues.append(tr)\n",
    "    clf.fit(tts[0], tts[1])\n",
    "    prdY = clf.predict(tts[2])\n",
    "    print(\"tr: \",tr,\"\\t acc: \",metrics.accuracy_score(tts[3], prdY), \n",
    "          \"\\t recall: \", metrics.recall_score(tts[3], prdY),\n",
    "         \"\\t precision\", metrics.precision_score(tts[3], prdY))\n",
    "    yvalues.append(metrics.accuracy_score(tts[3], prdY))\n",
    "\n",
    "\n",
    "plt.figure()\n",
    "func.bar_chart(plt.gca(), xvalues, yvalues, 'Coiso', '', 'accuracy', percentage=True)\n",
    "plt.show()"
   ]
  },
  {
   "cell_type": "markdown",
   "metadata": {},
   "source": [
    "## vamos com 0.75 de threshold"
   ]
  },
  {
   "cell_type": "code",
   "execution_count": 5,
   "metadata": {},
   "outputs": [
    {
     "data": {
      "text/plain": "(756, 568)"
     },
     "execution_count": 5,
     "metadata": {},
     "output_type": "execute_result"
    }
   ],
   "source": [
    "corr_data = func.red_correlations(data, tr=0.75)\n",
    "corr_data.shape"
   ]
  },
  {
   "cell_type": "code",
   "execution_count": 6,
   "metadata": {},
   "outputs": [
    {
     "data": {
      "text/plain": "            DFA    Ed2_2_coef    Ed2_3_coef    Ed2_4_coef    Ed2_6_coef  \\\n0  1.289731e-09  6.931142e-17  5.835806e-16  1.625047e-15  1.025306e-15   \n1  1.309912e-09  1.016166e-16  1.018051e-15  2.563981e-15  3.016449e-15   \n2  1.314402e-09  8.029823e-17  8.807529e-16  2.838630e-15  2.935843e-15   \n3  2.065572e-09  1.518457e-12  1.909213e-12  3.178522e-12  6.666340e-12   \n4  1.656068e-09  8.052630e-13  1.030854e-12  4.002859e-12  4.150237e-12   \n\n     Ed2_7_coef    Ed2_8_coef     Ed_1_coef     Ed_2_coef     Ed_3_coef  ...  \\\n0  3.106444e-15  2.064977e-15  2.747318e-16  1.590930e-15  1.334155e-14  ...   \n1  4.468115e-16  6.146014e-15  3.167271e-16  2.318895e-15  2.337748e-14  ...   \n2  1.415426e-16  1.162672e-16  2.274792e-16  1.837332e-15  2.022038e-14  ...   \n3  1.000171e-11  1.743754e-11  2.215528e-11  5.337116e-11  6.597896e-11  ...   \n4  8.515312e-12  9.092576e-12  1.631761e-11  2.332718e-11  3.023109e-11  ...   \n\n   tqwt_stdValue_dec_28Std  tqwt_stdValue_dec_34Mean  \\\n0             8.974378e-10             -2.193545e-13   \n1             8.103744e-10              3.319187e-12   \n2             5.811930e-10              1.561596e-12   \n3             1.557698e-09             -2.226002e-12   \n4             9.467725e-10              1.227261e-11   \n\n   tqwt_stdValue_dec_34Median  tqwt_stdValue_dec_34Std  tqwt_stdValue_dec_36  \\\n0                4.867242e-12             1.820202e-11          5.325487e-12   \n1                6.302304e-12             3.446178e-11          9.011075e-12   \n2                6.145634e-12             3.203689e-11          5.046345e-12   \n3                9.957380e-11             4.053467e-10          2.532188e-10   \n4                8.309606e-11             4.388951e-10          2.206928e-10   \n\n   tqwt_stdValue_dec_5Mean  tqwt_stdValue_dec_5Median  tqwt_stdValue_dec_5Std  \\\n0             6.668441e-13               7.115194e-13            1.381076e-11   \n1            -1.610365e-12               8.561247e-13            6.925308e-11   \n2            -5.950740e-13               4.716208e-13            1.243671e-11   \n3             9.202883e-12               6.513636e-12            1.552703e-10   \n4             1.154569e-12               5.243529e-12            5.913289e-11   \n\n   class  gender  \n0      1       1  \n1      1       1  \n2      1       1  \n3      1       0  \n4      1       0  \n\n[5 rows x 568 columns]",
      "text/html": "<div>\n<style scoped>\n    .dataframe tbody tr th:only-of-type {\n        vertical-align: middle;\n    }\n\n    .dataframe tbody tr th {\n        vertical-align: top;\n    }\n\n    .dataframe thead th {\n        text-align: right;\n    }\n</style>\n<table border=\"1\" class=\"dataframe\">\n  <thead>\n    <tr style=\"text-align: right;\">\n      <th></th>\n      <th>DFA</th>\n      <th>Ed2_2_coef</th>\n      <th>Ed2_3_coef</th>\n      <th>Ed2_4_coef</th>\n      <th>Ed2_6_coef</th>\n      <th>Ed2_7_coef</th>\n      <th>Ed2_8_coef</th>\n      <th>Ed_1_coef</th>\n      <th>Ed_2_coef</th>\n      <th>Ed_3_coef</th>\n      <th>...</th>\n      <th>tqwt_stdValue_dec_28Std</th>\n      <th>tqwt_stdValue_dec_34Mean</th>\n      <th>tqwt_stdValue_dec_34Median</th>\n      <th>tqwt_stdValue_dec_34Std</th>\n      <th>tqwt_stdValue_dec_36</th>\n      <th>tqwt_stdValue_dec_5Mean</th>\n      <th>tqwt_stdValue_dec_5Median</th>\n      <th>tqwt_stdValue_dec_5Std</th>\n      <th>class</th>\n      <th>gender</th>\n    </tr>\n  </thead>\n  <tbody>\n    <tr>\n      <th>0</th>\n      <td>1.289731e-09</td>\n      <td>6.931142e-17</td>\n      <td>5.835806e-16</td>\n      <td>1.625047e-15</td>\n      <td>1.025306e-15</td>\n      <td>3.106444e-15</td>\n      <td>2.064977e-15</td>\n      <td>2.747318e-16</td>\n      <td>1.590930e-15</td>\n      <td>1.334155e-14</td>\n      <td>...</td>\n      <td>8.974378e-10</td>\n      <td>-2.193545e-13</td>\n      <td>4.867242e-12</td>\n      <td>1.820202e-11</td>\n      <td>5.325487e-12</td>\n      <td>6.668441e-13</td>\n      <td>7.115194e-13</td>\n      <td>1.381076e-11</td>\n      <td>1</td>\n      <td>1</td>\n    </tr>\n    <tr>\n      <th>1</th>\n      <td>1.309912e-09</td>\n      <td>1.016166e-16</td>\n      <td>1.018051e-15</td>\n      <td>2.563981e-15</td>\n      <td>3.016449e-15</td>\n      <td>4.468115e-16</td>\n      <td>6.146014e-15</td>\n      <td>3.167271e-16</td>\n      <td>2.318895e-15</td>\n      <td>2.337748e-14</td>\n      <td>...</td>\n      <td>8.103744e-10</td>\n      <td>3.319187e-12</td>\n      <td>6.302304e-12</td>\n      <td>3.446178e-11</td>\n      <td>9.011075e-12</td>\n      <td>-1.610365e-12</td>\n      <td>8.561247e-13</td>\n      <td>6.925308e-11</td>\n      <td>1</td>\n      <td>1</td>\n    </tr>\n    <tr>\n      <th>2</th>\n      <td>1.314402e-09</td>\n      <td>8.029823e-17</td>\n      <td>8.807529e-16</td>\n      <td>2.838630e-15</td>\n      <td>2.935843e-15</td>\n      <td>1.415426e-16</td>\n      <td>1.162672e-16</td>\n      <td>2.274792e-16</td>\n      <td>1.837332e-15</td>\n      <td>2.022038e-14</td>\n      <td>...</td>\n      <td>5.811930e-10</td>\n      <td>1.561596e-12</td>\n      <td>6.145634e-12</td>\n      <td>3.203689e-11</td>\n      <td>5.046345e-12</td>\n      <td>-5.950740e-13</td>\n      <td>4.716208e-13</td>\n      <td>1.243671e-11</td>\n      <td>1</td>\n      <td>1</td>\n    </tr>\n    <tr>\n      <th>3</th>\n      <td>2.065572e-09</td>\n      <td>1.518457e-12</td>\n      <td>1.909213e-12</td>\n      <td>3.178522e-12</td>\n      <td>6.666340e-12</td>\n      <td>1.000171e-11</td>\n      <td>1.743754e-11</td>\n      <td>2.215528e-11</td>\n      <td>5.337116e-11</td>\n      <td>6.597896e-11</td>\n      <td>...</td>\n      <td>1.557698e-09</td>\n      <td>-2.226002e-12</td>\n      <td>9.957380e-11</td>\n      <td>4.053467e-10</td>\n      <td>2.532188e-10</td>\n      <td>9.202883e-12</td>\n      <td>6.513636e-12</td>\n      <td>1.552703e-10</td>\n      <td>1</td>\n      <td>0</td>\n    </tr>\n    <tr>\n      <th>4</th>\n      <td>1.656068e-09</td>\n      <td>8.052630e-13</td>\n      <td>1.030854e-12</td>\n      <td>4.002859e-12</td>\n      <td>4.150237e-12</td>\n      <td>8.515312e-12</td>\n      <td>9.092576e-12</td>\n      <td>1.631761e-11</td>\n      <td>2.332718e-11</td>\n      <td>3.023109e-11</td>\n      <td>...</td>\n      <td>9.467725e-10</td>\n      <td>1.227261e-11</td>\n      <td>8.309606e-11</td>\n      <td>4.388951e-10</td>\n      <td>2.206928e-10</td>\n      <td>1.154569e-12</td>\n      <td>5.243529e-12</td>\n      <td>5.913289e-11</td>\n      <td>1</td>\n      <td>0</td>\n    </tr>\n  </tbody>\n</table>\n<p>5 rows × 568 columns</p>\n</div>"
     },
     "execution_count": 6,
     "metadata": {},
     "output_type": "execute_result"
    }
   ],
   "source": [
    "data_norm = func.normalize(corr_data, ['class','gender'])\n",
    "data_norm.head()"
   ]
  },
  {
   "cell_type": "code",
   "execution_count": 7,
   "metadata": {},
   "outputs": [
    {
     "data": {
      "text/plain": "<Figure size 432x288 with 0 Axes>"
     },
     "metadata": {},
     "output_type": "display_data"
    },
    {
     "data": {
      "text/plain": "<Figure size 576x288 with 2 Axes>",
      "image/png": "[encoded data removed]"
     },
     "metadata": {
      "needs_background": "light"
     },
     "output_type": "display_data"
    }
   ],
   "source": [
    "columns = ['class']\n",
    "rows, cols = func.choose_grid(len(columns))\n",
    "cols=2\n",
    "plt.figure()\n",
    "fig, axs = plt.subplots(rows, cols, figsize=(cols*4, rows*4), squeeze=False)\n",
    "i, j = 0, 0\n",
    "for n in range(len(columns)):\n",
    "    counts = data_norm[columns[n]].dropna().value_counts(normalize=True)\n",
    "    func.bar_chart(axs[i, j], counts.index, counts.values, 'Histogram for %s'%columns[n], columns[n], 'probability')\n",
    "    i, j = (i + 1, 0) if (n+1) % cols == 0 else (i, j + 1)\n",
    "fig.tight_layout()\n",
    "plt.show()"
   ]
  },
  {
   "cell_type": "markdown",
   "metadata": {},
   "source": [
    "## Unbalanced dataset\n",
    "## Undersample está fora de questão"
   ]
  },
  {
   "cell_type": "code",
   "execution_count": 8,
   "metadata": {},
   "outputs": [
    {
     "name": "stdout",
     "output_type": "stream",
     "text": [
      "(790, 567) (790, 1) (227, 567) (227, 1)\n"
     ]
    }
   ],
   "source": [
    "data_smote =func.smote_split(data_norm, 'class')\n",
    "print(data_smote[0].shape, data_smote[1].shape, data_smote[2].shape, data_smote[3].shape)"
   ]
  },
  {
   "cell_type": "code",
   "execution_count": 9,
   "metadata": {},
   "outputs": [
    {
     "data": {
      "text/plain": "(1128, 568)"
     },
     "execution_count": 9,
     "metadata": {},
     "output_type": "execute_result"
    }
   ],
   "source": [
    "target_count = corr_data['class'].value_counts()\n",
    "min_class = target_count.idxmin()\n",
    "ind_min_class = target_count.index.get_loc(min_class)\n",
    "\n",
    "values = {'Original': [target_count.values[ind_min_class], target_count.values[1-ind_min_class]]}\n",
    "\n",
    "df_class_min = corr_data[corr_data['class'] == min_class]\n",
    "df_class_max = corr_data[corr_data['class'] != min_class] \n",
    "\n",
    "data_over = df_class_min.sample(len(df_class_max), replace=True)\n",
    "\n",
    "data_over = df_class_max.append(data_over)\n",
    "data_over.shape"
   ]
  },
  {
   "cell_type": "code",
   "execution_count": 10,
   "metadata": {},
   "outputs": [
    {
     "name": "stdout",
     "output_type": "stream",
     "text": [
      "(529, 568)\n",
      "(1056, 567) (1056, 1) (227, 567) (227, 1)\n"
     ]
    }
   ],
   "source": [
    "def over_split(unba,  to_clf='class'):\n",
    "    columns = unba.columns\n",
    "    data = unba.copy()\n",
    "    \n",
    "    y1: np.ndarray = data['class'].values \n",
    "    X1: np.ndarray = data.drop('class', axis=1).values\n",
    "    labels1 = pd.unique(y1)\n",
    "    trnX1, tstX1, trnY1, tstY1 = train_test_split(X1, y1, train_size=0.7, stratify=y1)\n",
    "    trnY1 = trnY1.reshape((-1, 1))\n",
    "    tstY1 = tstY1.reshape((-1, 1))\n",
    "    train = np.append(trnX1, trnY1, axis=1)\n",
    "    \n",
    "    data = pd.DataFrame(train,columns=columns)\n",
    "    print(data.shape)\n",
    "    ###########################################\n",
    "\n",
    "    ###################################\n",
    "    target_count = data[to_clf].value_counts()\n",
    "    min_class = target_count.idxmin()\n",
    "    ind_min_class = target_count.index.get_loc(min_class)\n",
    "\n",
    "    values = {'Original': [target_count.values[ind_min_class], target_count.values[1-ind_min_class]]}\n",
    "\n",
    "    df_class_min = data[data[to_clf] == min_class]\n",
    "    df_class_max = data[data[to_clf] != min_class] \n",
    "    \n",
    "    df_over = df_class_min.sample(len(df_class_max), replace=True)\n",
    "    df_over = df_class_max.append(df_over)\n",
    "    data = df_over\n",
    "    \n",
    "    y1: np.ndarray = data['class'].values \n",
    "    X1: np.ndarray = data.drop('class', axis=1).values\n",
    "    y1 = y1.reshape((-1, 1))\n",
    "\n",
    "    \n",
    "    return (X1, y1, tstX1, tstY1, labels1)\n",
    "\n",
    "data_over = over_split(corr_data, 'class')\n",
    "print(data_over[0].shape, data_over[1].shape, data_over[2].shape, data_over[3].shape)"
   ]
  },
  {
   "cell_type": "code",
   "execution_count": 11,
   "metadata": {},
   "outputs": [
    {
     "name": "stderr",
     "output_type": "stream",
     "text": [
      "/home/andre/anaconda3/envs/cd-master/lib/python3.8/site-packages/sklearn/utils/validation.py:73: DataConversionWarning: A column-vector y was passed when a 1d array was expected. Please change the shape of y to (n_samples, ), for example using ravel().\n",
      "  return f(**kwargs)\n",
      "/home/andre/anaconda3/envs/cd-master/lib/python3.8/site-packages/sklearn/utils/validation.py:68: FutureWarning: Pass labels=[1 0] as keyword args. From version 0.25 passing these as positional arguments will result in an error\n",
      "  warnings.warn(\"Pass {} as keyword args. From version 0.25 \"\n"
     ]
    },
    {
     "data": {
      "text/plain": "<Figure size 432x288 with 1 Axes>",
      "image/png": "[encoded data removed]"
     },
     "metadata": {
      "needs_background": "light"
     },
     "output_type": "display_data"
    },
    {
     "data": {
      "text/plain": "<Figure size 432x288 with 1 Axes>",
      "image/png": "[encoded data removed]"
     },
     "metadata": {
      "needs_background": "light"
     },
     "output_type": "display_data"
    }
   ],
   "source": [
    "clf = BernoulliNB()\n",
    "#d = func.split_dataset(data_smote)\n",
    "# (trnX, trnY, tstX, tstY, labels)\n",
    "d=data_smote\n",
    "\n",
    "xvalues = [\"dataset1\"]\n",
    "yvalues = []\n",
    "cnf_mtx = []\n",
    "clf.fit(d[0], d[1])\n",
    "prdY = clf.predict(d[2])\n",
    "yvalues.append(metrics.accuracy_score(d[3], prdY))\n",
    "cnf_mtx.append(metrics.confusion_matrix(d[3], prdY, d[4]))\n",
    "\n",
    "plt.figure()\n",
    "func.plot_confusion_matrix(plt.gca(), cnf_mtx[0], d[4])\n",
    "plt.show()\n",
    "\n",
    "plt.figure()\n",
    "func.bar_chart(plt.gca(), xvalues, yvalues, 'Comparison of Datasets', '', 'accuracy', percentage=True)\n",
    "plt.show()"
   ]
  },
  {
   "cell_type": "markdown",
   "metadata": {},
   "source": [
    "### Canto superior esquerdo representa falsos negativos, ou seja, tem a doença mas o classificafor diz que não. Visto que este é o cenário mais grave vamos dar mais importância a este valor e optar pelo Oversampling.\n"
   ]
  },
  {
   "cell_type": "code",
   "execution_count": 12,
   "metadata": {},
   "outputs": [
    {
     "data": {
      "text/plain": "<Figure size 432x288 with 1 Axes>",
      "image/png": "[encoded data removed]"
     },
     "metadata": {
      "needs_background": "light"
     },
     "output_type": "display_data"
    }
   ],
   "source": [
    "nvalues = [1, 3, 5, 7, 9, 11, 13, 15, 17, 19]\n",
    "dist = ['manhattan', 'euclidean', 'chebyshev']\n",
    "values = {}\n",
    "tts = func.split_dataset(data_norm)\n",
    "\n",
    "for d in dist:\n",
    "    yvalues = []\n",
    "    for n in nvalues:\n",
    "        knn = KNeighborsClassifier(n_neighbors=n, metric=d)\n",
    "        knn.fit(tts[0], tts[1])\n",
    "        prdY = knn.predict(tts[2])\n",
    "        yvalues.append(metrics.accuracy_score(tts[3], prdY))\n",
    "    values[d] = yvalues\n",
    "\n",
    "plt.figure()\n",
    "func.multiple_line_chart(plt.gca(), nvalues, values, 'KNN variants', 'n', 'accuracy', percentage=True)\n",
    "plt.show()"
   ]
  },
  {
   "cell_type": "markdown",
   "metadata": {},
   "source": [
    "## Testar com k-fold"
   ]
  },
  {
   "cell_type": "code",
   "execution_count": 13,
   "metadata": {
    "pycharm": {
     "name": "#%%\n"
    }
   },
   "outputs": [
    {
     "name": "stdout",
     "output_type": "stream",
     "text": [
      "[0.8135593220338984, 0.7457627118644068, 0.8448275862068966, 0.7931034482758621, 0.8103448275862069, 0.896551724137931, 0.8793103448275862, 0.7241379310344828, 0.8620689655172413, 0.7068965517241379, 0.6896551724137931, 0.8275862068965517, 0.7413793103448276]\n"
     ]
    }
   ],
   "source": [
    "from sklearn.model_selection import StratifiedKFold\n",
    "\n",
    "skf = StratifiedKFold(n_splits=13)\n",
    "yvalues=[]\n",
    "X = data_norm[data_norm.columns.difference(['class'])].values\n",
    "y = data_norm['class'].values\n",
    "\n",
    "for train_index, test_index in skf.split(X, y):\n",
    "    X_train, X_test = X[train_index], X[test_index]\n",
    "    y_train, y_test = y[train_index], y[test_index]\n",
    "    clf.fit(X_train, y_train)\n",
    "    prdY = clf.predict(X_test)\n",
    "    yvalues.append(metrics.accuracy_score(y_test, prdY))\n",
    "\n",
    "print(yvalues)\n",
    "\n",
    "\n",
    "\n"
   ]
  }
 ],
 "metadata": {
  "kernelspec": {
   "display_name": "Python 3",
   "language": "python",
   "name": "python3"
  },
  "language_info": {
   "codemirror_mode": {
    "name": "ipython",
    "version": 3
   },
   "file_extension": ".py",
   "mimetype": "text/x-python",
   "name": "python",
   "nbconvert_exporter": "python",
   "pygments_lexer": "ipython3",
   "version": "3.7.4"
  }
 },
 "nbformat": 4,
 "nbformat_minor": 2
}